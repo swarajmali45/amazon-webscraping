{
  "nbformat": 4,
  "nbformat_minor": 0,
  "metadata": {
    "colab": {
      "provenance": []
    },
    "kernelspec": {
      "name": "python3",
      "display_name": "Python 3"
    },
    "language_info": {
      "name": "python"
    }
  },
  "cells": [
    {
      "cell_type": "code",
      "execution_count": 134,
      "metadata": {
        "id": "r68gw4h1N0vl"
      },
      "outputs": [],
      "source": [
        "import requests\n",
        "from bs4 import BeautifulSoup as bs\n",
        "import pandas as pd"
      ]
    },
    {
      "cell_type": "markdown",
      "source": [
        "# Loading the Webpage"
      ],
      "metadata": {
        "id": "HpqFFV9POAT0"
      }
    },
    {
      "cell_type": "code",
      "source": [
        "req = requests.get(\"https://www.amazon.in/gp/bestsellers/books/\")\n",
        "soup = bs(req.content)\n"
      ],
      "metadata": {
        "id": "GnyWk6emN_-e"
      },
      "execution_count": 135,
      "outputs": []
    },
    {
      "cell_type": "code",
      "source": [
        "data = soup.find_all(\"div\", attrs={\"id\": \"gridItemRoot\"})"
      ],
      "metadata": {
        "id": "eReJlWqCfULi"
      },
      "execution_count": 136,
      "outputs": []
    },
    {
      "cell_type": "code",
      "source": [
        "price = data[3].find(\"span\", attrs={\"class\": \"p13n-sc-price\"}).get_text()\n",
        "book_price = price[1:]\n",
        "book_price"
      ],
      "metadata": {
        "colab": {
          "base_uri": "https://localhost:8080/",
          "height": 35
        },
        "id": "lip-YaJzfmlA",
        "outputId": "cc491cc6-2932-4a28-944f-d8be10049783"
      },
      "execution_count": 137,
      "outputs": [
        {
          "output_type": "execute_result",
          "data": {
            "text/plain": [
              "'235.00'"
            ],
            "application/vnd.google.colaboratory.intrinsic+json": {
              "type": "string"
            }
          },
          "metadata": {},
          "execution_count": 137
        }
      ]
    },
    {
      "cell_type": "code",
      "source": [
        "text = data[3].find_all('div', attrs={\"class\": \"_cDEzb_p13n-sc-css-line-clamp-1_1Fn1y\"})\n",
        "book_title = text[0].get_text()\n",
        "author = text[1].get_text()\n",
        "print(book_title)\n",
        "print(author)"
      ],
      "metadata": {
        "colab": {
          "base_uri": "https://localhost:8080/"
        },
        "id": "NkCIcAldgC_V",
        "outputId": "f53f630b-e54d-4e6f-e55b-6f2c96c6f865"
      },
      "execution_count": 138,
      "outputs": [
        {
          "output_type": "stream",
          "name": "stdout",
          "text": [
            "Unbarbaad : For Those Who Feel Lost by Shobhit Nirwan\n",
            "Shobhit Nirwan\n"
          ]
        }
      ]
    },
    {
      "cell_type": "code",
      "source": [
        "rating = data[3].find(\"span\", attrs={\"class\": \"a-icon-alt\"}).get_text()\n",
        "rating_5 = rating.split()[0]\n",
        "rating_5"
      ],
      "metadata": {
        "colab": {
          "base_uri": "https://localhost:8080/",
          "height": 35
        },
        "id": "e0r15Cvygvy-",
        "outputId": "4f6ae179-27c0-4992-93c6-d2eaebd495d8"
      },
      "execution_count": 139,
      "outputs": [
        {
          "output_type": "execute_result",
          "data": {
            "text/plain": [
              "'4.9'"
            ],
            "application/vnd.google.colaboratory.intrinsic+json": {
              "type": "string"
            }
          },
          "metadata": {},
          "execution_count": 139
        }
      ]
    },
    {
      "cell_type": "code",
      "source": [
        "# Creating a timestamp for when the the data is collected\n",
        "\n",
        "import datetime\n",
        "today = datetime.date.today()"
      ],
      "metadata": {
        "id": "esiG5airoDzz"
      },
      "execution_count": 140,
      "outputs": []
    },
    {
      "cell_type": "markdown",
      "source": [
        "# Making a csv file containing all books"
      ],
      "metadata": {
        "id": "O6JbGsPCoXw2"
      }
    },
    {
      "cell_type": "code",
      "source": [
        "import csv\n",
        "\n",
        "header = ['Title', 'Author', 'Price', 'Rating out of 5', 'Date']\n",
        "data_row = [book_title,author, book_price, rating_5, today]\n",
        "\n",
        "\n",
        "with open('best-seller-books.csv', 'w', newline='', encoding='UTF8') as f:\n",
        "    writer = csv.writer(f)\n",
        "    writer.writerow(header)\n",
        "    writer.writerow(data_row)\n",
        ""
      ],
      "metadata": {
        "id": "Q4aNiaj1oXMJ"
      },
      "execution_count": 141,
      "outputs": []
    },
    {
      "cell_type": "code",
      "source": [
        "def addbook(data):\n",
        "  price = data.find(\"span\", attrs={\"class\": \"p13n-sc-price\"}).get_text()\n",
        "  book_price = price[1:]\n",
        "\n",
        "  text = data.find_all('div', attrs={\"class\": \"_cDEzb_p13n-sc-css-line-clamp-1_1Fn1y\"})\n",
        "\n",
        "  if len(text) == 1:\n",
        "    return 0\n",
        "\n",
        "  book_title = text[0].get_text()\n",
        "  author = text[1].get_text()\n",
        "\n",
        "  # Changed line to find rating within the current book element\n",
        "  rating = data.find(\"span\", attrs={\"class\": \"a-icon-alt\"}).get_text()\n",
        "  rating_5 = rating.split()[0]\n",
        "\n",
        "  today = datetime.date.today()\n",
        "\n",
        "  data_row = [book_title, author, book_price, rating_5, today] # Added author to data_row\n",
        "\n",
        "  with open('best-seller-books.csv', 'a+', newline='', encoding='UTF8') as f:\n",
        "    writer = csv.writer(f)\n",
        "    writer.writerow(data_row)"
      ],
      "metadata": {
        "id": "gn3GwMq7pYxv"
      },
      "execution_count": 142,
      "outputs": []
    },
    {
      "cell_type": "code",
      "source": [
        "data[i]"
      ],
      "metadata": {
        "colab": {
          "base_uri": "https://localhost:8080/"
        },
        "id": "iexl4A1Cq9ba",
        "outputId": "dee472f8-4219-4bc4-dd62-7f098fbf0d65"
      },
      "execution_count": 143,
      "outputs": [
        {
          "output_type": "execute_result",
          "data": {
            "text/plain": [
              "<div class=\"a-column a-span12 a-text-center _cDEzb_grid-column_2hIsc\" id=\"gridItemRoot\"><div class=\"a-cardui _cDEzb_grid-cell_1uMOS expandableGrid p13n-grid-content\" data-a-card-type=\"basic\" id=\"p13n-asin-index-41\"><div class=\"_cDEzb_iveVideoWrapper_JJ34T\" data-asin=\"935543135X\"><div class=\"a-section zg-bdg-ctr\"><div class=\"a-section zg-bdg-body zg-bdg-clr-body aok-float-left\"><span class=\"zg-bdg-text\">#42</span></div><div class=\"a-section zg-bdg-tri zg-bdg-clr-tri aok-float-left\"></div></div><div class=\"zg-grid-general-faceout\"><span><div class=\"p13n-sc-uncoverable-faceout\" id=\"935543135X\"><a aria-hidden=\"true\" class=\"a-link-normal aok-block\" href=\"/Dont-Believe-Everything-You-Think/dp/935543135X/ref=zg_bs_g_books_d_sccl_12/000-0000000-0000000?psc=1\" tabindex=\"-1\"><div class=\"a-section a-spacing-mini _cDEzb_noop_3Xbw5\"><img alt=\"Don't Believe Everything You Think (English)\" class=\"a-dynamic-image p13n-sc-dynamic-image p13n-product-image\" data-a-dynamic-image='{\"https://images-eu.ssl-images-amazon.com/images/I/715qi-cIbML._AC_UL300_SR300,200_.jpg\":[300,200],\"https://images-eu.ssl-images-amazon.com/images/I/715qi-cIbML._AC_UL600_SR600,400_.jpg\":[600,400],\"https://images-eu.ssl-images-amazon.com/images/I/715qi-cIbML._AC_UL900_SR900,600_.jpg\":[900,600]}' height=\"200px\" src=\"https://images-eu.ssl-images-amazon.com/images/I/715qi-cIbML._AC_UL300_SR300,200_.jpg\" style=\"max-width:300px;max-height:200px\"/></div></a><div><div><a class=\"a-link-normal aok-block\" href=\"/Dont-Believe-Everything-You-Think/dp/935543135X/ref=zg_bs_g_books_d_sccl_12/000-0000000-0000000?psc=1\" role=\"link\"><span><div class=\"_cDEzb_p13n-sc-css-line-clamp-1_1Fn1y\">Don't Believe Everything You Think (English)</div></span></a><div class=\"a-row a-size-small\"><a class=\"a-size-small a-link-child\" href=\"/Joseph-Nguyen/e/B09WQV3GFV/ref=zg_bs_g_books_d_sccl_12_bl/000-0000000-0000000\"><div class=\"_cDEzb_p13n-sc-css-line-clamp-1_1Fn1y\">Joseph Nguyen</div></a></div><div class=\"a-row\"><div class=\"a-icon-row\"><a class=\"a-link-normal\" href=\"/product-reviews/935543135X/ref=zg_bs_g_books_d_sccl_12_cr/000-0000000-0000000\" title=\"4.5 out of 5 stars, 10,353 ratings\"><i aria-hidden=\"true\" class=\"a-icon a-icon-star-small a-star-small-4-5 aok-align-top\"><span class=\"a-icon-alt\">4.5 out of 5 stars</span></i> <span aria-hidden=\"true\" class=\"a-size-small\">10,353</span></a></div></div><div class=\"a-row a-size-small\"><span class=\"a-size-small a-color-secondary a-text-normal\">Paperback</span></div><div class=\"a-row\"><a class=\"a-link-normal\" href=\"/Dont-Believe-Everything-You-Think/dp/935543135X/ref=zg_bs_g_books_d_sccl_12/000-0000000-0000000?psc=1\" role=\"link\"><span class=\"a-color-secondary\">8 offers from <span><span class=\"p13n-sc-price\">₹194.00</span></span></span></a></div></div></div></div></span></div><div class=\"watch-button-placeholder aok-hidden\"></div></div></div></div>"
            ]
          },
          "metadata": {},
          "execution_count": 143
        }
      ]
    },
    {
      "cell_type": "code",
      "source": [
        "i = 2\n",
        "while(i<=40):\n",
        "  datas = data[i]\n",
        "  addbook(datas)\n",
        "  i = i+1"
      ],
      "metadata": {
        "id": "z5YA7l5ep-2R"
      },
      "execution_count": 144,
      "outputs": []
    }
  ]
}